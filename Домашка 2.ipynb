{
 "cells": [
  {
   "cell_type": "markdown",
   "id": "1d95ed75",
   "metadata": {},
   "source": [
    "### Домашнее задание к лекции 2\n",
    "1. Сгенерировать датасет при помощи sklearn.datasets.make_regression и обучить линейную модель при помощи градиентного и стохастического градиентного спуска. Нанести среднеквадратичную ошибку для обоих методов на один график, сделать выводы о разнице скорости сходимости каждого из методов."
   ]
  },
  {
   "cell_type": "code",
   "execution_count": 1,
   "id": "aada7b11",
   "metadata": {},
   "outputs": [],
   "source": [
    "import numpy as np\n",
    "from sklearn import datasets\n",
    "import matplotlib.pyplot as plt\n",
    "from tqdm import tqdm\n",
    "\n",
    "%matplotlib inline"
   ]
  },
  {
   "cell_type": "code",
   "execution_count": 2,
   "id": "7d0783c2",
   "metadata": {},
   "outputs": [],
   "source": [
    "# сгенерируем набор данных\n",
    "data, target, coef = datasets.make_regression(n_samples=1000, n_features = 2, n_informative = 2, n_targets = 1, \n",
    "                                              noise = 5, coef = True, random_state = 2)"
   ]
  },
  {
   "cell_type": "markdown",
   "id": "08ab1464",
   "metadata": {},
   "source": [
    "Отмасштабируем получившиеся признаки методом стандартизации."
   ]
  },
  {
   "cell_type": "code",
   "execution_count": 3,
   "id": "c051b12b",
   "metadata": {},
   "outputs": [],
   "source": [
    "# Получим средние значения и стандартное отклонение по столбцам\n",
    "\n",
    "means = np.mean(data, axis=0)\n",
    "stds = np.std(data, axis=0)\n",
    "# параметр axis указывается для вычисления значений по столбцам, а не по всему массиву\n",
    "#(см. документацию в разделе источников)\n",
    "\n",
    "# вычтем каждое значение признака из среднего и поделим на стандартное отклонение\n",
    "for i in range(data.shape[0]):\n",
    "    for j in range(data.shape[1]):\n",
    "        data[i][j] = (data[i][j] - means[j])/stds[j]"
   ]
  },
  {
   "cell_type": "code",
   "execution_count": 4,
   "id": "fd66b495",
   "metadata": {},
   "outputs": [],
   "source": [
    "# реализуем функцию, определяющую среднеквадратичную ошибку\n",
    "def mserror(X, w, y_pred):\n",
    "    y = X.dot(w)\n",
    "    return (sum((y - y_pred)**2)) / len(y)"
   ]
  },
  {
   "cell_type": "markdown",
   "id": "92d1d1a8",
   "metadata": {},
   "source": [
    "Обучим линейную регрессию путем градиентного спуска и получим графики изменения весов и ошибки"
   ]
  },
  {
   "cell_type": "code",
   "execution_count": 5,
   "id": "60e122e9",
   "metadata": {},
   "outputs": [],
   "source": [
    "def gradient_descent(X, Y, w):\n",
    "    # список векторов весов после каждой итерации\n",
    "    w_list = [w.copy()]\n",
    "\n",
    "    # список значений ошибок после каждой итерации\n",
    "    errors = []\n",
    "\n",
    "    # шаг градиентного спуска\n",
    "    eta = 0.01\n",
    "\n",
    "    # максимальное число итераций\n",
    "    max_iter = 1e4\n",
    "\n",
    "    # критерий сходимости (разница весов, при которой алгоритм останавливается)\n",
    "    min_weight_dist = 1e-8\n",
    "\n",
    "    # зададим начальную разницу весов большим числом\n",
    "    weight_dist = np.inf\n",
    "\n",
    "    # счетчик итераций\n",
    "    iter_num = 0\n",
    "\n",
    "    # ход градиентного спуска\n",
    "    pbar = tqdm(total = max_iter+1)\n",
    "    while weight_dist > min_weight_dist and iter_num < max_iter:\n",
    "        new_w = w - 2 * eta * np.dot(X.T, (np.dot(X, w) - Y)) / Y.shape[0]\n",
    "        weight_dist = np.linalg.norm(new_w - w, ord=2)\n",
    "\n",
    "        w_list.append(new_w.copy())\n",
    "        errors.append(mserror(X, new_w, Y))\n",
    "        iter_num += 1\n",
    "        w = new_w\n",
    "        pbar.update(1)\n",
    "    pbar.close()\n",
    "    w_list = np.array(w_list)\n",
    "\n",
    "    print(f'В случае использования градиентного спуска функционал ошибки составляет {round(errors[-1], 4)}')\n",
    "    \n",
    "    return w_list, errors"
   ]
  },
  {
   "cell_type": "code",
   "execution_count": 6,
   "id": "5acb28c2",
   "metadata": {},
   "outputs": [
    {
     "name": "stderr",
     "output_type": "stream",
     "text": [
      " 10%|███████▏                                                                  | 965/10001.0 [00:00<00:02, 3247.89it/s]"
     ]
    },
    {
     "name": "stdout",
     "output_type": "stream",
     "text": [
      "В случае использования градиентного спуска функционал ошибки составляет 38.5683\n"
     ]
    },
    {
     "name": "stderr",
     "output_type": "stream",
     "text": [
      "\n"
     ]
    }
   ],
   "source": [
    "# возьмем нулевые начальные веса\n",
    "n_features = 2\n",
    "w = np.zeros(n_features)\n",
    "w_list = gradient_descent(data, target, w)"
   ]
  },
  {
   "cell_type": "markdown",
   "id": "be11cb06",
   "metadata": {},
   "source": [
    "Далее реализуем сам стохастический градиентный спуск."
   ]
  },
  {
   "cell_type": "code",
   "execution_count": 7,
   "id": "027c6874",
   "metadata": {},
   "outputs": [],
   "source": [
    "def stochastic_gradient_descent(X, Y, w, eta = 0.01, max_iter = 1e5, min_weight_dist = 1e-8):\n",
    "    # инициализируем начальный вектор весов\n",
    "    w = np.zeros(2)\n",
    "\n",
    "    # список векторов весов после каждой итерации\n",
    "    w_list = [w.copy()]\n",
    "\n",
    "    # список значений ошибок после каждой итерации\n",
    "    errors = []\n",
    "\n",
    "    # зададим начальную разницу весов большим числом\n",
    "    weight_dist = np.inf\n",
    "\n",
    "    # счетчик итераций\n",
    "    iter_num = 0\n",
    "\n",
    "    np.random.seed(1234)\n",
    "\n",
    "    # ход градиентного спуска\n",
    "    pbar = tqdm(total = max_iter+1)\n",
    "    while weight_dist > min_weight_dist and iter_num < max_iter:\n",
    "\n",
    "        # генерируем случайный индекс объекта выборки\n",
    "        train_ind = np.random.randint(data.shape[0])\n",
    "\n",
    "        new_w = w - 2 * eta * np.dot(data[train_ind].T, (np.dot(data[train_ind], w) - target[train_ind])) / target.shape[0]\n",
    "\n",
    "        weight_dist = np.linalg.norm(new_w - w, ord=2)\n",
    "\n",
    "        w_list.append(new_w.copy())\n",
    "        errors.append(mserror(data, new_w, target))\n",
    "\n",
    "        iter_num += 1\n",
    "        w = new_w\n",
    "        pbar.update(1)\n",
    "    pbar.close()\n",
    "    w_list = np.array(w_list)\n",
    "\n",
    "    print(f'В случае использования стохастического градиентного спуска функционал ошибки составляет {round(errors[-1], 4)}')\n",
    "    return w_list, errors"
   ]
  },
  {
   "cell_type": "code",
   "execution_count": 8,
   "id": "37431958",
   "metadata": {},
   "outputs": [
    {
     "name": "stderr",
     "output_type": "stream",
     "text": [
      " 92%|█████████████████████████████████████████████████████████████████▌     | 92374/100001.0 [00:23<00:01, 3940.86it/s]\n"
     ]
    },
    {
     "name": "stdout",
     "output_type": "stream",
     "text": [
      "В случае использования стохастического градиентного спуска функционал ошибки составляет 248.3494\n"
     ]
    }
   ],
   "source": [
    "# возьмем нулевые начальные веса\n",
    "n_features = 2\n",
    "w = np.zeros(n_features)\n",
    "w_list_stochastic = stochastic_gradient_descent(data, target, w, eta = 0.01, max_iter = 1e5, min_weight_dist = 1e-8)"
   ]
  },
  {
   "cell_type": "code",
   "execution_count": 9,
   "id": "ba8ee119",
   "metadata": {},
   "outputs": [
    {
     "data": {
      "image/png": "[encoded data removed]",
      "text/plain": [
       "<Figure size 936x432 with 1 Axes>"
      ]
     },
     "metadata": {
      "needs_background": "light"
     },
     "output_type": "display_data"
    }
   ],
   "source": [
    "w_true = coef\n",
    "# Визуализируем изменение весов (красной точкой обозначены истинные веса, сгенерированные вначале)\n",
    "plt.figure(figsize=(13, 6))\n",
    "plt.title('Gradient descent')\n",
    "plt.xlabel(r'$w_1$')\n",
    "plt.ylabel(r'$w_2$')\n",
    "\n",
    "plt.scatter(w_list[0][:, 0], w_list[0][:, 1])\n",
    "plt.scatter(w_list_stochastic[0][:, 0], w_list_stochastic[0][:, 1])\n",
    "plt.scatter(w_true[0], w_true[1], c='r')\n",
    "plt.plot(w_list[0][:, 0], w_list[0][:, 1], label=\"Gradient descent\")\n",
    "plt.plot(w_list_stochastic[0][:, 0], w_list_stochastic[0][:, 1], label=\"Stochastic gradient descent\")\n",
    "plt.legend()\n",
    "plt.show()"
   ]
  },
  {
   "cell_type": "code",
   "execution_count": 10,
   "id": "f0af218b",
   "metadata": {},
   "outputs": [
    {
     "data": {
      "text/plain": [
       "<matplotlib.legend.Legend at 0x1650afed330>"
      ]
     },
     "execution_count": 10,
     "metadata": {},
     "output_type": "execute_result"
    },
    {
     "data": {
      "image/png": "[encoded data removed]",
      "text/plain": [
       "<Figure size 432x288 with 1 Axes>"
      ]
     },
     "metadata": {
      "needs_background": "light"
     },
     "output_type": "display_data"
    }
   ],
   "source": [
    "# Визуализируем изменение функционала ошибки\n",
    "plt.plot(range(len(w_list[1])), w_list[1], label=\"Gradient descent\")\n",
    "plt.plot(range(len(w_list_stochastic[1])), w_list_stochastic[1], label=\"Stochastic gradient descent\")\n",
    "plt.title('MSE')\n",
    "plt.xlabel('Iteration number')\n",
    "plt.ylabel('MSE')\n",
    "plt.legend()"
   ]
  },
  {
   "cell_type": "markdown",
   "id": "1428b887",
   "metadata": {},
   "source": [
    "Скорость сходимости у обычного градиентного спуска больше\n",
    "\n",
    "Модифицировать решение первого задания путем добавления \n",
    " L2-регуляризации (в функцию, считающую MSE, нужно добавить норму вектора весов) и сравнить результаты."
   ]
  },
  {
   "cell_type": "code",
   "execution_count": 11,
   "id": "8c576f92",
   "metadata": {},
   "outputs": [],
   "source": [
    "def stochastic_gradient_descent_weighted(X, Y, w, eta = 0.01, max_iter = 1e5, min_weight_dist = 1e-8, lambda_=1e-8):\n",
    "    # инициализируем начальный вектор весов\n",
    "    w = np.zeros(2)\n",
    "\n",
    "    # список векторов весов после каждой итерации\n",
    "    w_list = [w.copy()]\n",
    "\n",
    "    # список значений ошибок после каждой итерации\n",
    "    errors = []\n",
    "\n",
    "    # зададим начальную разницу весов большим числом\n",
    "    weight_dist = np.inf\n",
    "\n",
    "    # счетчик итераций\n",
    "    iter_num = 0\n",
    "\n",
    "    np.random.seed(1234)\n",
    "\n",
    "    # ход градиентного спуска\n",
    "    pbar = tqdm(total = max_iter+1)\n",
    "    while weight_dist > min_weight_dist and iter_num < max_iter:\n",
    "\n",
    "        # генерируем случайный индекс объекта выборки\n",
    "        train_ind = np.random.randint(data.shape[0])\n",
    "\n",
    "        new_w = w - 2 * eta * np.dot(data[train_ind].T, (np.dot(data[train_ind], w) - target[train_ind])) / target.shape[0] + lambda_ * w\n",
    "\n",
    "        weight_dist = np.linalg.norm(new_w - w, ord=2)\n",
    "\n",
    "        w_list.append(new_w.copy())\n",
    "        errors.append(mserror(data, new_w, target))\n",
    "\n",
    "        iter_num += 1\n",
    "        w = new_w\n",
    "        pbar.update(1)\n",
    "    pbar.close()\n",
    "    w_list = np.array(w_list)\n",
    "\n",
    "    print(f'В случае использования стохастического градиентного спуска функционал ошибки составляет {round(errors[-1], 4)}')\n",
    "    return w_list, errors"
   ]
  },
  {
   "cell_type": "code",
   "execution_count": 12,
   "id": "20309f08",
   "metadata": {},
   "outputs": [
    {
     "name": "stderr",
     "output_type": "stream",
     "text": [
      "100%|█████████████████████████████████████████████████████████████████████▉| 100000/100001.0 [00:26<00:00, 3773.84it/s]\n"
     ]
    },
    {
     "name": "stdout",
     "output_type": "stream",
     "text": [
      "В случае использования стохастического градиентного спуска функционал ошибки составляет 193.1829\n"
     ]
    }
   ],
   "source": [
    "# возьмем нулевые начальные веса\n",
    "n_features = 2\n",
    "w = np.zeros(n_features)\n",
    "w_list_stochastic_weighted = stochastic_gradient_descent_weighted(data, target, w, eta = 0.01, max_iter = 1e5, min_weight_dist = 1e-8, lambda_=1e-8)"
   ]
  },
  {
   "cell_type": "code",
   "execution_count": 13,
   "id": "5a2d68dd",
   "metadata": {},
   "outputs": [
    {
     "data": {
      "text/plain": [
       "<matplotlib.legend.Legend at 0x1650b5aaaa0>"
      ]
     },
     "execution_count": 13,
     "metadata": {},
     "output_type": "execute_result"
    },
    {
     "data": {
      "image/png": "[encoded data removed]",
      "text/plain": [
       "<Figure size 432x288 with 1 Axes>"
      ]
     },
     "metadata": {
      "needs_background": "light"
     },
     "output_type": "display_data"
    }
   ],
   "source": [
    "# Визуализируем изменение функционала ошибки\n",
    "plt.plot(range(len(w_list[1])), w_list[1], label=\"Gradient descent\")\n",
    "plt.plot(range(len(w_list_stochastic[1])), w_list_stochastic[1], label=\"Stochastic gradient descent\")\n",
    "plt.plot(range(len(w_list_stochastic_weighted[1])), w_list_stochastic_weighted[1], label=\"Stochastic gradient descent weighted\")\n",
    "plt.title('MSE')\n",
    "plt.xlabel('Iteration number')\n",
    "plt.ylabel('MSE')\n",
    "plt.legend()"
   ]
  },
  {
   "cell_type": "markdown",
   "id": "a05a36dc",
   "metadata": {},
   "source": [
    "Как видим точность стохастического градиентного спуска с регуляризацией L2 точнее по сравнению с стохастическим градиентным спуском без регуляризации. Кроме того регуляризация позводила отфильтровать большие веса, за счет чего повысилась точность модели. Но скорость модели несколько замедлилась."
   ]
  },
  {
   "cell_type": "code",
   "execution_count": null,
   "id": "81dc12c9",
   "metadata": {},
   "outputs": [],
   "source": []
  }
 ],
 "metadata": {
  "kernelspec": {
   "display_name": "Python 3 (ipykernel)",
   "language": "python",
   "name": "python3"
  },
  "language_info": {
   "codemirror_mode": {
    "name": "ipython",
    "version": 3
   },
   "file_extension": ".py",
   "mimetype": "text/x-python",
   "name": "python",
   "nbconvert_exporter": "python",
   "pygments_lexer": "ipython3",
   "version": "3.10.4"
  }
 },
 "nbformat": 4,
 "nbformat_minor": 5
}
